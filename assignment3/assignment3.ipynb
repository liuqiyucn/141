{
 "cells": [
  {
   "cell_type": "code",
   "execution_count": 95,
   "metadata": {},
   "outputs": [],
   "source": [
    "import numpy as np\n",
    "import matplotlib.pyplot as plt\n",
    "import pandas as pd\n",
    "from numba import jit"
   ]
  },
  {
   "attachments": {},
   "cell_type": "markdown",
   "metadata": {},
   "source": [
    "# 1a"
   ]
  },
  {
   "cell_type": "code",
   "execution_count": 96,
   "metadata": {},
   "outputs": [],
   "source": [
    "plummer_data_1a = pd.read_csv('plummer_regular.csv')\n",
    "r = plummer_data_1a.loc[:,['r_x', 'r_y', 'r_z']]\n",
    "r = r.to_numpy()\n",
    "v = plummer_data_1a.loc[:,['v_x', 'v_y', 'v_z']]\n",
    "v = v.to_numpy()\n",
    "mass = np.full((10000,1), 2)"
   ]
  },
  {
   "cell_type": "code",
   "execution_count": 97,
   "metadata": {},
   "outputs": [],
   "source": [
    "def getAcc(pos : np.ndarray, mass : np.ndarray, G : float, softening : float):\n",
    "    \"\"\"\n",
    "    Calculate the acceleration on each particle due to Newton's Law\n",
    "    pos  is an N x 3 matrix of positions\n",
    "    mass is an N x 1 vector of masses\n",
    "    G is Newton's Gravitational constant\n",
    "    softening is the softening length\n",
    "    a is N x 3 matrix of accelerations\n",
    "    \"\"\"\n",
    "    # positions r = [x,y,z] for all particles\n",
    "    x = pos[:,0:1]\n",
    "    y = pos[:,1:2]\n",
    "    z = pos[:,2:3]\n",
    "    \n",
    "    # matrix that stores all pairwise particle separations: r_j - r_i\n",
    "    dx = x.T - x\n",
    "    dy = y.T - y\n",
    "    dz = z.T - z\n",
    "    \n",
    "    # matrix that stores 1/r^3 for all particle pairwise particle separations \n",
    "    inv_r3 = (dx**2 + dy**2 + dz**2 + softening**2)**(-1.5)\n",
    "    \n",
    "    ax = G * (dx * inv_r3) @ mass\n",
    "    ay = G * (dy * inv_r3) @ mass\n",
    "    az = G * (dz * inv_r3) @ mass\n",
    "    \n",
    "    # pack together the acceleration components\n",
    "    a = np.hstack((ax,ay,az))\n",
    "\n",
    "    return a\n",
    "\n",
    "def leapfrog(pos: np.ndarray, vec: np.ndarray, mass: float,G: float, softening: float, dt: float):\n",
    "\n",
    "    # leapfrog for N-body\n",
    "    vec = vec + 0.5*dt*getAcc(pos, mass, G, softening)\n",
    "    pos = pos+ vec*dt\n",
    "    vec = vec+ 0.5*dt*getAcc(pos, mass, G, softening)\n",
    "\n",
    "    return pos, vec"
   ]
  },
  {
   "cell_type": "code",
   "execution_count": 100,
   "metadata": {},
   "outputs": [
    {
     "name": "stdout",
     "output_type": "stream",
     "text": [
      "[[ 73.90581349 -23.07534889   9.07323374]\n",
      " [ 33.02005186  32.95930148 -28.77900128]\n",
      " [ -3.18853095  75.3347163   54.99117777]\n",
      " ...\n",
      " [ 46.33014793  62.65750984  44.28870595]\n",
      " [ 43.45869855  37.49065256   4.98877903]\n",
      " [-27.35344326   3.55654026  45.04195978]] [[ 74.39439288 -23.21583041   9.14930357]\n",
      " [ 32.90802957  32.87515952 -28.64411795]\n",
      " [ -3.22496335  76.20297651  55.61431647]\n",
      " ...\n",
      " [ 46.7924918   63.26634437  44.76213142]\n",
      " [ 43.42474921  37.48127469   5.02091542]\n",
      " [-32.21311019   4.2662703   53.18645717]]\n"
     ]
    }
   ],
   "source": [
    "pos, vec = leapfrog(r, v, mass, 1, 5, 1)"
   ]
  },
  {
   "cell_type": "code",
   "execution_count": 99,
   "metadata": {},
   "outputs": [],
   "source": [
    "# x = np.array([3,27,5.3]).reshape(3,1)\n",
    "# print(x.T-x)"
   ]
  },
  {
   "cell_type": "code",
   "execution_count": null,
   "metadata": {},
   "outputs": [],
   "source": []
  }
 ],
 "metadata": {
  "kernelspec": {
   "display_name": "ML",
   "language": "python",
   "name": "python3"
  },
  "language_info": {
   "codemirror_mode": {
    "name": "ipython",
    "version": 3
   },
   "file_extension": ".py",
   "mimetype": "text/x-python",
   "name": "python",
   "nbconvert_exporter": "python",
   "pygments_lexer": "ipython3",
   "version": "3.10.10"
  },
  "orig_nbformat": 4
 },
 "nbformat": 4,
 "nbformat_minor": 2
}
