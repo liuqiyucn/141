{
 "cells": [
  {
   "cell_type": "code",
   "execution_count": 28,
   "metadata": {},
   "outputs": [],
   "source": [
    "import numpy as np\n",
    "import matplotlib.pyplot as plt\n",
    "from matplotlib.animation import FuncAnimation\n",
    "import pandas as pd"
   ]
  },
  {
   "attachments": {},
   "cell_type": "markdown",
   "metadata": {},
   "source": [
    "# 1"
   ]
  },
  {
   "cell_type": "code",
   "execution_count": 29,
   "metadata": {},
   "outputs": [],
   "source": [
    "# calculate the pair-wise acceleration and energy\n",
    "def getAcc(pos : np.ndarray, mass : np.ndarray, G : float, softening : float):\n",
    "    # positions r = [x,y,z] for all particles\n",
    "    x = pos[:,0:1]\n",
    "    y = pos[:,1:2]\n",
    "    z = pos[:,2:3]\n",
    "    \n",
    "    # matrix that stores all pairwise particle separations: r_j - r_i\n",
    "    dx = x.T - x\n",
    "    dy = y.T - y\n",
    "    dz = z.T - z\n",
    "    \n",
    "    # matrix that stores 1/r^3 for all particle pairwise particle separations \n",
    "    inv_r3 = (dx**2 + dy**2 + dz**2 + softening**2)**(-1.5)\n",
    "    \n",
    "    ax = G * (dx * inv_r3) @ mass\n",
    "    ay = G * (dy * inv_r3) @ mass\n",
    "    az = G * (dz * inv_r3) @ mass\n",
    "    \n",
    "    # pack together the acceleration components\n",
    "    a = np.hstack((ax,ay,az))\n",
    "\n",
    "    return a\n",
    "\n",
    "# calculate the energy in one timestep\n",
    "def getEnergy( pos:np.ndarray, vel:np.ndarray, mass:np.ndarray, G :float):\n",
    "    # Kinetic Energy:\n",
    "    KE = 0.5 * np.sum(np.sum( mass * vel**2 ))\n",
    "\n",
    "    \n",
    "\n",
    "    # position vectors\n",
    "    x = pos[:,0:1]\n",
    "    y = pos[:,1:2]\n",
    "    z = pos[:,2:3]\n",
    "\n",
    "    # pair-wise distance in 3 dimensions\n",
    "    dx = x.T - x\n",
    "    dy = y.T - y\n",
    "    dz = z.T - z\n",
    "\n",
    "    # matrix that stores 1/r for all particle pairwise particle separations \n",
    "    inv_r = np.sqrt(dx**2 + dy**2 + dz**2)\n",
    "    inv_r[inv_r>0] = 1.0/inv_r[inv_r>0]\n",
    "\n",
    "    # sum over upper triangle, to count each interaction only once\n",
    "    PE = G * np.sum(np.sum(np.triu(-(mass*mass.T)*inv_r,1)))\n",
    "    \n",
    "    return KE, PE\n",
    "\n",
    "# leapfrog based on acceleration\n",
    "def leapfrog(pos: np.ndarray, vec: np.ndarray, mass: np.ndarray, G: float, softening: float, dt: float):\n",
    "\n",
    "    # leapfrog for N-body\n",
    "    vec = vec + 0.5*dt*getAcc(pos, mass, G, softening)\n",
    "    pos = pos+ vec*dt\n",
    "    vec = vec+ 0.5*dt*getAcc(pos, mass, G, softening)\n",
    "\n",
    "    KE, PE = getEnergy(pos, vec, mass, G)\n",
    "\n",
    "    return pos, vec, KE, PE"
   ]
  },
  {
   "cell_type": "code",
   "execution_count": 30,
   "metadata": {},
   "outputs": [],
   "source": [
    "# Data and constants\n",
    "plummer_data_1a = pd.read_csv('plummer_regular.csv')\n",
    "softening = np.median(plummer_data_1a.loc[:,'r'].to_numpy()) * 0.1\n",
    "r = plummer_data_1a.loc[:,['r_x', 'r_y', 'r_z']]\n",
    "r = r.to_numpy()\n",
    "v = plummer_data_1a.loc[:,['v_x', 'v_y', 'v_z']]\n",
    "v = v.to_numpy()\n",
    "mass = np.full((10000,1), 2)/1e11\n",
    "\n",
    "length_unit = 1.5 # kpc\n",
    "vec_unit = 5.477e-7 # kpc/year\n",
    "M_unit = 1e11 # Msolar\n",
    "G = 6.67 * 10**(-8) * (1.02*10**(-14))**2 * (3.24*10**-22) * (1.989*10**(33)) # kpc^3/(Msolar*year**2)\n",
    "\n",
    "# scale with length\n",
    "r = r*length_unit\n",
    "v = v*vec_unit\n",
    "mass = M_unit*mass\n",
    "\n",
    "# simulation time\n",
    "T = 50\n",
    "dt = 1\n",
    "step = T/dt\n",
    "\n",
    "# result container\n",
    "pos_out = []\n",
    "vec_out = []\n",
    "KE_out = []\n",
    "PE_out = []"
   ]
  },
  {
   "cell_type": "code",
   "execution_count": 31,
   "metadata": {},
   "outputs": [],
   "source": [
    "# simulate for 50 time step\n",
    "for i in range(int(step)):\n",
    "    r, v, KE, PE = leapfrog(r, v, mass, G = G, softening = softening, dt = dt)\n",
    "    pos_out.append(r)\n",
    "    vec_out.append(v)\n",
    "    KE_out.append(KE)\n",
    "    PE_out.append(PE)\n",
    "\n",
    "pos_out = np.array(pos_out)\n",
    "vec_out = np.array(vec_out)\n",
    "KE_out = np.array(KE_out)\n",
    "PE_out = np.array(PE_out)\n",
    "TE_out = KE_out + PE_out # total energy"
   ]
  },
  {
   "cell_type": "code",
   "execution_count": 32,
   "metadata": {},
   "outputs": [
    {
     "data": {
      "image/png": "[encoded data removed]",
      "text/plain": [
       "<Figure size 640x480 with 1 Axes>"
      ]
     },
     "metadata": {},
     "output_type": "display_data"
    }
   ],
   "source": [
    "time = np.arange(50)\n",
    "plt.plot(time, KE_out)\n",
    "plt.plot(time, PE_out)\n",
    "plt.plot(time, TE_out)\n",
    "plt.show()"
   ]
  },
  {
   "attachments": {},
   "cell_type": "markdown",
   "metadata": {},
   "source": [
    "# 2"
   ]
  },
  {
   "cell_type": "code",
   "execution_count": 34,
   "metadata": {},
   "outputs": [],
   "source": [
    "# Data and constants\n",
    "# same position but zero initial velocity\n",
    "softening = np.median(plummer_data_1a.loc[:,'r'].to_numpy()) * 0.1\n",
    "r = plummer_data_1a.loc[:,['r_x', 'r_y', 'r_z']]\n",
    "r = r.to_numpy()\n",
    "v = plummer_data_1a.loc[:,['v_x', 'v_y', 'v_z']]\n",
    "v = v.to_numpy()\n",
    "v[True] = 0 # set initial velocity to 0\n",
    "mass = np.full((10000,1), 2)/1e11\n",
    "\n",
    "length_unit = 1.5 # kpc\n",
    "vec_unit = 5.477e-7 # kpc/year\n",
    "M_unit = 1e11 # Msolar\n",
    "G = 6.67 * 10**(-8) * (1.02*10**(-14))**2 * (3.24*10**-22) * (1.989*10**(33)) # kpc^3/(Msolar*year**2)\n",
    "\n",
    "# scale with length\n",
    "r = r*length_unit\n",
    "v = v*vec_unit\n",
    "mass = M_unit*mass\n",
    "\n",
    "# simulation time\n",
    "T = 50\n",
    "dt = 1\n",
    "step = T/dt\n",
    "\n",
    "# result container\n",
    "pos_out = []\n",
    "vec_out = []\n",
    "KE_out = []\n",
    "PE_out = []"
   ]
  },
  {
   "cell_type": "code",
   "execution_count": 35,
   "metadata": {},
   "outputs": [],
   "source": [
    "# simulate for 50 time step\n",
    "for i in range(int(step)):\n",
    "    r, v, KE, PE = leapfrog(r, v, mass, G = G, softening = softening, dt = dt)\n",
    "    pos_out.append(r)\n",
    "    vec_out.append(v)\n",
    "    KE_out.append(KE)\n",
    "    PE_out.append(PE)\n",
    "\n",
    "pos_out = np.array(pos_out)\n",
    "vec_out = np.array(vec_out)\n",
    "KE_out = np.array(KE_out)\n",
    "PE_out = np.array(PE_out)\n",
    "TE_out = KE_out + PE_out # total energy"
   ]
  },
  {
   "cell_type": "code",
   "execution_count": 41,
   "metadata": {},
   "outputs": [
    {
     "data": {
      "image/png": "[encoded data removed]",
      "text/plain": [
       "<Figure size 640x480 with 1 Axes>"
      ]
     },
     "metadata": {},
     "output_type": "display_data"
    }
   ],
   "source": [
    "time = np.arange(50)\n",
    "plt.plot(time, KE_out, label = 'KE')\n",
    "plt.plot(time, PE_out, label = 'PE')\n",
    "plt.plot(time, TE_out, label = 'TE')\n",
    "plt.legend()\n",
    "plt.show()"
   ]
  },
  {
   "attachments": {},
   "cell_type": "markdown",
   "metadata": {},
   "source": [
    "# 3"
   ]
  },
  {
   "cell_type": "code",
   "execution_count": 37,
   "metadata": {},
   "outputs": [],
   "source": [
    "# # Create the figure and axes for the plot\n",
    "# fig = plt.figure(figsize=(10,10))\n",
    "# ax = fig.add_subplot(111, projection='3d')\n",
    "\n",
    "# # Create the initial point in the plot\n",
    "# point1, = ax.plot(pos_out[0,:,0], pos_out[0,:,1], pos_out[0,:,2], 'bo')\n",
    "\n",
    "# # Define the update function for the animation\n",
    "# def update(frame):\n",
    "\n",
    "#     point1.set_data(pos_out[frame][:,0], pos_out[frame][:,1])\n",
    "#     point1.set_3d_properties(pos_out[frame][:,2])\n",
    "\n",
    "#     return point1,\n",
    "\n",
    "# # Create the animation object\n",
    "# anim = FuncAnimation(fig, update, frames = int(step))\n",
    "\n",
    "# ax.set_title('part 1')\n",
    "# plt.show()"
   ]
  },
  {
   "attachments": {},
   "cell_type": "markdown",
   "metadata": {},
   "source": [
    "A few important things to note about this project so far: <br> 1: the total energy seems conserved as the value does not change along the simulation of 50 time steps. However, this might due to the fact that the unit scales (time scale) is too small that real time analysis cannot be reflected. <br> 2: I tried inrease the step size for the simulation. However, due to the number of particles in this project, it takes a tremendous amount of time to simulate. In the correction version, I thought to utilize pytorch to use the gpu to maybe achieve speed up of the computation to increase the total amount of time step simulated. <br> 3: the matplotlib animation was throwing wired error. The code was totally working fine for the previous animation. The input data type and structure are also the same. One cause for the error of maplotlib animation is maybe due to the large number of particles. I ought to look into the animation in the correction version and produce the galaxy collapsing mp4 file to demonstrate the behavour."
   ]
  },
  {
   "attachments": {},
   "cell_type": "markdown",
   "metadata": {},
   "source": []
  }
 ],
 "metadata": {
  "kernelspec": {
   "display_name": "Python 3 (ipykernel)",
   "language": "python",
   "name": "python3"
  },
  "language_info": {
   "codemirror_mode": {
    "name": "ipython",
    "version": 3
   },
   "file_extension": ".py",
   "mimetype": "text/x-python",
   "name": "python",
   "nbconvert_exporter": "python",
   "pygments_lexer": "ipython3",
   "version": "3.10.11"
  }
 },
 "nbformat": 4,
 "nbformat_minor": 2
}
