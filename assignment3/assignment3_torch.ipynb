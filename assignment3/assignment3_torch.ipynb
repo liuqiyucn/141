{
 "cells": [
  {
   "cell_type": "code",
   "execution_count": 8,
   "metadata": {},
   "outputs": [],
   "source": [
    "import numpy as np\n",
    "import matplotlib.pyplot as plt\n",
    "import pandas as pd\n",
    "from numba import jit"
   ]
  },
  {
   "cell_type": "markdown",
   "metadata": {},
   "source": [
    "# 1a"
   ]
  },
  {
   "cell_type": "code",
   "execution_count": 9,
   "metadata": {},
   "outputs": [],
   "source": [
    "def getAcc(pos : np.ndarray, mass : np.ndarray, G : float, softening : float):\n",
    "    \"\"\"\n",
    "    Calculate the acceleration on each particle due to Newton's Law\n",
    "    pos  is an N x 3 matrix of positions\n",
    "    mass is an N x 1 vector of masses\n",
    "    G is Newton's Gravitational constant\n",
    "    softening is the softening length\n",
    "    a is N x 3 matrix of accelerations\n",
    "    \"\"\"\n",
    "    # positions r = [x,y,z] for all particles\n",
    "    x = pos[:,0:1]\n",
    "    y = pos[:,1:2]\n",
    "    z = pos[:,2:3]\n",
    "    \n",
    "    # matrix that stores all pairwise particle separations: r_j - r_i\n",
    "    dx = x.T - x\n",
    "    dy = y.T - y\n",
    "    dz = z.T - z\n",
    "    \n",
    "    # matrix that stores 1/r^3 for all particle pairwise particle separations \n",
    "    inv_r3 = (dx**2 + dy**2 + dz**2 + softening**2)**(-1.5)\n",
    "    \n",
    "    ax = G * (dx * inv_r3) @ mass\n",
    "    ay = G * (dy * inv_r3) @ mass\n",
    "    az = G * (dz * inv_r3) @ mass\n",
    "    \n",
    "    # pack together the acceleration components\n",
    "    a = np.hstack((ax,ay,az))\n",
    "\n",
    "    return a\n",
    "\n",
    "def leapfrog(pos: np.ndarray, vec: np.ndarray, mass: float,G: float, softening: float, dt: float):\n",
    "\n",
    "    # leapfrog for N-body\n",
    "    vec = vec + 0.5*dt*getAcc(pos, mass, G, softening)\n",
    "    pos = pos+ vec*dt\n",
    "    vec = vec+ 0.5*dt*getAcc(pos, mass, G, softening)\n",
    "\n",
    "    return pos, vec"
   ]
  },
  {
   "cell_type": "code",
   "execution_count": 10,
   "metadata": {},
   "outputs": [],
   "source": [
    "# Data and constants\n",
    "plummer_data_1a = pd.read_csv('plummer_regular.csv')\n",
    "r = plummer_data_1a.loc[:,['r_x', 'r_y', 'r_z']]\n",
    "r = r.to_numpy()\n",
    "v = plummer_data_1a.loc[:,['v_x', 'v_y', 'v_z']]\n",
    "v = v.to_numpy()\n",
    "mass = np.full((10000,1), 2)\n",
    "\n",
    "# simulation time\n",
    "T = 10\n",
    "dt = 1\n",
    "step = T/dt\n",
    "\n",
    "# result container\n",
    "pos_out = []\n",
    "vec_out = []"
   ]
  },
  {
   "cell_type": "code",
   "execution_count": 11,
   "metadata": {},
   "outputs": [],
   "source": [
    "# x = np.array([3,27,5.3]).reshape(3,1)\n",
    "# print(x.T-x)"
   ]
  },
  {
   "cell_type": "code",
   "execution_count": null,
   "metadata": {},
   "outputs": [],
   "source": [
    "for i in range(int(step)):\n",
    "    r, v = leapfrog(r, v, mass, G = 1, softening = 5, dt = dt)\n",
    "    pos_out.append(r)\n",
    "    vec_out.append(v)\n",
    "\n",
    "pos_out = np.array(pos_out)\n",
    "vec_out = np.array(vec_out)"
   ]
  },
  {
   "cell_type": "code",
   "execution_count": null,
   "metadata": {},
   "outputs": [],
   "source": []
  }
 ],
 "metadata": {
  "kernelspec": {
   "display_name": "Python 3 (ipykernel)",
   "language": "python",
   "name": "python3"
  },
  "language_info": {
   "codemirror_mode": {
    "name": "ipython",
    "version": 3
   },
   "file_extension": ".py",
   "mimetype": "text/x-python",
   "name": "python",
   "nbconvert_exporter": "python",
   "pygments_lexer": "ipython3",
   "version": "3.10.10"
  }
 },
 "nbformat": 4,
 "nbformat_minor": 2
}
