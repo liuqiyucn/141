{
 "cells": [
  {
   "cell_type": "code",
   "execution_count": 1,
   "metadata": {},
   "outputs": [],
   "source": [
    "import numpy as np\n",
    "import matplotlib.pyplot as plt\n",
    "import pandas as pd\n",
    "import torch\n",
    "from numba import jit"
   ]
  },
  {
   "attachments": {},
   "cell_type": "markdown",
   "metadata": {},
   "source": [
    "# 1a"
   ]
  },
  {
   "cell_type": "code",
   "execution_count": 2,
   "metadata": {},
   "outputs": [],
   "source": [
    "# determine the supported device\n",
    "def get_device():\n",
    "    if torch.cuda.is_available():\n",
    "        device = torch.device('cuda:0')\n",
    "    else:\n",
    "        device = torch.device('cpu') # don't have GPU \n",
    "    return device\n",
    "\n",
    "def getAcc(pos : torch.Tensor, mass : torch.Tensor, G : float, softening : float):\n",
    "    \"\"\"\n",
    "    Calculate the acceleration on each particle due to Newton's Law\n",
    "    pos  is an N x 3 matrix of positions\n",
    "    mass is an N x 1 vector of masses\n",
    "    G is Newton's Gravitational constant\n",
    "    softening is the softening length\n",
    "    a is N x 3 matrix of accelerations\n",
    "    \"\"\"\n",
    "    # positions r = [x,y,z] for all particles\n",
    "    x = pos[:,0:1]\n",
    "    y = pos[:,1:2]\n",
    "    z = pos[:,2:3]\n",
    "    \n",
    "    # matrix that stores all pairwise particle separations: r_j - r_i\n",
    "    dx = x.T - x\n",
    "    dy = y.T - y\n",
    "    dz = z.T - z\n",
    "    \n",
    "    # matrix that stores 1/r^3 for all particle pairwise particle separations \n",
    "    inv_r3 = (dx**2 + dy**2 + dz**2 + softening**2)**(-1.5)\n",
    "    \n",
    "    ax = G * (dx * inv_r3) @ mass\n",
    "    ay = G * (dy * inv_r3) @ mass\n",
    "    az = G * (dz * inv_r3) @ mass\n",
    "    \n",
    "    # pack together the acceleration components\n",
    "    a = torch.hstack((ax,ay,az))\n",
    "\n",
    "    return a\n",
    "\n",
    "def leapfrog(pos: torch.Tensor, vec: torch.Tensor, mass: torch.Tensor, G: float, softening: float, dt: float):\n",
    "\n",
    "    # leapfrog for N-body\n",
    "    vec = vec + 0.5*dt*getAcc(pos, mass, G, softening)\n",
    "    pos = pos+ vec*dt\n",
    "    vec = vec+ 0.5*dt*getAcc(pos, mass, G, softening)\n",
    "\n",
    "    return pos, vec"
   ]
  },
  {
   "cell_type": "code",
   "execution_count": 3,
   "metadata": {},
   "outputs": [
    {
     "name": "stdout",
     "output_type": "stream",
     "text": [
      "cpu\n",
      "shape:  torch.Size([3])\n",
      "tensor([[0.3492, 0.4404, 0.0886],\n",
      "        [0.7553, 0.0941, 0.8624],\n",
      "        [0.3992, 0.1160, 0.0908],\n",
      "        [0.4764, 0.0641, 0.6866],\n",
      "        [0.8794, 0.2638, 0.9321]])\n",
      "<class 'torch.Tensor'>\n",
      "<class 'torch.Tensor'>\n",
      "Tensor device: cpu\n",
      "CUDA GPU: False\n",
      "tensor([[0.3492, 0.4404, 0.0886],\n",
      "        [0.7553, 0.0941, 0.8624],\n",
      "        [0.3992, 0.1160, 0.0908],\n",
      "        [0.4764, 0.0641, 0.6866],\n",
      "        [0.8794, 0.2638, 0.9321]])\n",
      "Tensor device: cpu\n"
     ]
    }
   ],
   "source": [
    "# get the supported device\n",
    "device = get_device()\n",
    "print(device)\n",
    "\n",
    "# Data and constants\n",
    "plummer_data_1a = pd.read_csv('plummer_regular.csv')\n",
    "r = plummer_data_1a.loc[:,['r_x', 'r_y', 'r_z']]\n",
    "r = r.to_numpy()\n",
    "v = plummer_data_1a.loc[:,['v_x', 'v_y', 'v_z']]\n",
    "v = v.to_numpy()\n",
    "mass = np.full((10000,1), 2)\n",
    "\n",
    "# convert from np.ndarray to torch.tensor\n",
    "r = torch.from_numpy(r)\n",
    "v = torch.from_numpy(v)\n",
    "mass = torch.from_numpy(mass)\n",
    "\n",
    "# simulation time\n",
    "T = 1\n",
    "dt = 1\n",
    "step = T/dt\n",
    "npoint = 10000\n",
    "\n",
    "# result container\n",
    "pos_out = torch.tensor((step, npoint, 3)).to(device)\n",
    "vec_out = torch.tensor((step, npoint, 3)).to(device)\n",
    "print('shape: ', pos_out.size())\n",
    "\n",
    "#######################\n",
    "# gpu computing testing\n",
    "x = torch.rand(5, 3)\n",
    "print(x)\n",
    "print(type(r))\n",
    "print(type(x))\n",
    "print(\"Tensor device:\", x.device)\n",
    "\n",
    "print(\"CUDA GPU:\", torch.cuda.is_available())\n",
    "if torch.cuda.is_available():\n",
    "   x = x.to(\"cuda:0\")\n",
    "   # or x=x.to(\"cuda\")\n",
    "print(x)\n",
    "\n",
    "# now check the tensor device\n",
    "print(\"Tensor device:\", x.device)"
   ]
  },
  {
   "cell_type": "code",
   "execution_count": 4,
   "metadata": {},
   "outputs": [],
   "source": [
    "# x = np.array([3,27,5.3]).reshape(3,1)\n",
    "# print(x.T-x)"
   ]
  },
  {
   "cell_type": "code",
   "execution_count": 5,
   "metadata": {},
   "outputs": [
    {
     "ename": "RuntimeError",
     "evalue": "expected scalar type Double but found Long",
     "output_type": "error",
     "traceback": [
      "\u001b[0;31m---------------------------------------------------------------------------\u001b[0m",
      "\u001b[0;31mRuntimeError\u001b[0m                              Traceback (most recent call last)",
      "Cell \u001b[0;32mIn[5], line 2\u001b[0m\n\u001b[1;32m      1\u001b[0m \u001b[39mfor\u001b[39;00m i \u001b[39min\u001b[39;00m \u001b[39mrange\u001b[39m(\u001b[39mint\u001b[39m(step)):\n\u001b[0;32m----> 2\u001b[0m     r, v \u001b[39m=\u001b[39m leapfrog(r, v, mass, G \u001b[39m=\u001b[39;49m \u001b[39m1\u001b[39;49m, softening \u001b[39m=\u001b[39;49m \u001b[39m5\u001b[39;49m, dt \u001b[39m=\u001b[39;49m dt)\n\u001b[1;32m      3\u001b[0m     pos_out\u001b[39m.\u001b[39mappend(r)\n\u001b[1;32m      4\u001b[0m     vec_out\u001b[39m.\u001b[39mappend(v)\n",
      "Cell \u001b[0;32mIn[2], line 43\u001b[0m, in \u001b[0;36mleapfrog\u001b[0;34m(pos, vec, mass, G, softening, dt)\u001b[0m\n\u001b[1;32m     40\u001b[0m \u001b[39mdef\u001b[39;00m \u001b[39mleapfrog\u001b[39m(pos: torch\u001b[39m.\u001b[39mTensor, vec: torch\u001b[39m.\u001b[39mTensor, mass: torch\u001b[39m.\u001b[39mTensor, G: \u001b[39mfloat\u001b[39m, softening: \u001b[39mfloat\u001b[39m, dt: \u001b[39mfloat\u001b[39m):\n\u001b[1;32m     41\u001b[0m \n\u001b[1;32m     42\u001b[0m     \u001b[39m# leapfrog for N-body\u001b[39;00m\n\u001b[0;32m---> 43\u001b[0m     vec \u001b[39m=\u001b[39m vec \u001b[39m+\u001b[39m \u001b[39m0.5\u001b[39m\u001b[39m*\u001b[39mdt\u001b[39m*\u001b[39mgetAcc(pos, mass, G, softening)\n\u001b[1;32m     44\u001b[0m     pos \u001b[39m=\u001b[39m pos\u001b[39m+\u001b[39m vec\u001b[39m*\u001b[39mdt\n\u001b[1;32m     45\u001b[0m     vec \u001b[39m=\u001b[39m vec\u001b[39m+\u001b[39m \u001b[39m0.5\u001b[39m\u001b[39m*\u001b[39mdt\u001b[39m*\u001b[39mgetAcc(pos, mass, G, softening)\n",
      "Cell \u001b[0;32mIn[2], line 31\u001b[0m, in \u001b[0;36mgetAcc\u001b[0;34m(pos, mass, G, softening)\u001b[0m\n\u001b[1;32m     28\u001b[0m \u001b[39m# matrix that stores 1/r^3 for all particle pairwise particle separations \u001b[39;00m\n\u001b[1;32m     29\u001b[0m inv_r3 \u001b[39m=\u001b[39m (dx\u001b[39m*\u001b[39m\u001b[39m*\u001b[39m\u001b[39m2\u001b[39m \u001b[39m+\u001b[39m dy\u001b[39m*\u001b[39m\u001b[39m*\u001b[39m\u001b[39m2\u001b[39m \u001b[39m+\u001b[39m dz\u001b[39m*\u001b[39m\u001b[39m*\u001b[39m\u001b[39m2\u001b[39m \u001b[39m+\u001b[39m softening\u001b[39m*\u001b[39m\u001b[39m*\u001b[39m\u001b[39m2\u001b[39m)\u001b[39m*\u001b[39m\u001b[39m*\u001b[39m(\u001b[39m-\u001b[39m\u001b[39m1.5\u001b[39m)\n\u001b[0;32m---> 31\u001b[0m ax \u001b[39m=\u001b[39m G \u001b[39m*\u001b[39;49m (dx \u001b[39m*\u001b[39;49m inv_r3) \u001b[39m@\u001b[39;49m mass\n\u001b[1;32m     32\u001b[0m ay \u001b[39m=\u001b[39m G \u001b[39m*\u001b[39m (dy \u001b[39m*\u001b[39m inv_r3) \u001b[39m@\u001b[39m mass\n\u001b[1;32m     33\u001b[0m az \u001b[39m=\u001b[39m G \u001b[39m*\u001b[39m (dz \u001b[39m*\u001b[39m inv_r3) \u001b[39m@\u001b[39m mass\n",
      "\u001b[0;31mRuntimeError\u001b[0m: expected scalar type Double but found Long"
     ]
    }
   ],
   "source": [
    "for i in range(int(step)):\n",
    "    r, v = leapfrog(r, v, mass, G = 1, softening = 5, dt = dt)\n",
    "    pos_out.append(r)\n",
    "    vec_out.append(v)\n",
    "\n",
    "pos_out = np.array(pos_out)\n",
    "vec_out = np.array(vec_out)"
   ]
  },
  {
   "cell_type": "code",
   "execution_count": null,
   "metadata": {},
   "outputs": [],
   "source": []
  }
 ],
 "metadata": {
  "kernelspec": {
   "display_name": "Python 3 (ipykernel)",
   "language": "python",
   "name": "python3"
  },
  "language_info": {
   "codemirror_mode": {
    "name": "ipython",
    "version": 3
   },
   "file_extension": ".py",
   "mimetype": "text/x-python",
   "name": "python",
   "nbconvert_exporter": "python",
   "pygments_lexer": "ipython3",
   "version": "3.10.11"
  }
 },
 "nbformat": 4,
 "nbformat_minor": 2
}
