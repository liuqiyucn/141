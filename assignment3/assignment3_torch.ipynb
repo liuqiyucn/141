{
 "cells": [
  {
   "cell_type": "code",
   "execution_count": 3,
   "metadata": {},
   "outputs": [],
   "source": [
    "import numpy as np\n",
    "import matplotlib.pyplot as plt\n",
    "import pandas as pd\n",
    "import torch\n",
    "from numba import jit"
   ]
  },
  {
   "attachments": {},
   "cell_type": "markdown",
   "metadata": {},
   "source": [
    "# 1a"
   ]
  },
  {
   "cell_type": "code",
   "execution_count": 4,
   "metadata": {},
   "outputs": [],
   "source": [
    "# determine the supported device\n",
    "def get_device():\n",
    "    if torch.cuda.is_available():\n",
    "        device = torch.device('cuda:0')\n",
    "    else:\n",
    "        device = torch.device('cpu') # don't have GPU \n",
    "    return device\n",
    "\n",
    "def getAcc(pos : torch.Tensor, mass : torch.Tensor, G : float, softening : float):\n",
    "    \"\"\"\n",
    "    Calculate the acceleration on each particle due to Newton's Law\n",
    "    pos  is an N x 3 matrix of positions\n",
    "    mass is an N x 1 vector of masses\n",
    "    G is Newton's Gravitational constant\n",
    "    softening is the softening length\n",
    "    a is N x 3 matrix of accelerations\n",
    "    \"\"\"\n",
    "    # positions r = [x,y,z] for all particles\n",
    "    x = pos[:,0:1]\n",
    "    y = pos[:,1:2]\n",
    "    z = pos[:,2:3]\n",
    "    \n",
    "    # matrix that stores all pairwise particle separations: r_j - r_i\n",
    "    dx = x.T - x\n",
    "    dy = y.T - y\n",
    "    dz = z.T - z\n",
    "    \n",
    "    # matrix that stores 1/r^3 for all particle pairwise particle separations \n",
    "    inv_r3 = (dx**2 + dy**2 + dz**2 + softening**2)**(-1.5)\n",
    "    \n",
    "    ax = G * (dx * inv_r3) @ mass\n",
    "    ay = G * (dy * inv_r3) @ mass\n",
    "    az = G * (dz * inv_r3) @ mass\n",
    "    \n",
    "    # pack together the acceleration components\n",
    "    a = torch.hstack((ax,ay,az))\n",
    "\n",
    "    return a\n",
    "\n",
    "def leapfrog(pos: torch.Tensor, vec: torch.Tensor, mass: torch.Tensor, G: float, softening: float, dt: float):\n",
    "\n",
    "    # leapfrog for N-body\n",
    "    vec = vec + 0.5*dt*getAcc(pos, mass, G, softening)\n",
    "    pos = pos+ vec*dt\n",
    "    vec = vec+ 0.5*dt*getAcc(pos, mass, G, softening)\n",
    "\n",
    "    return pos, vec"
   ]
  },
  {
   "cell_type": "code",
   "execution_count": 5,
   "metadata": {},
   "outputs": [
    {
     "name": "stdout",
     "output_type": "stream",
     "text": [
      "cpu\n",
      "shape:  torch.Size([3])\n",
      "tensor([[0.3082, 0.0027, 0.6662],\n",
      "        [0.6923, 0.7190, 0.9847],\n",
      "        [0.0901, 0.1171, 0.8238],\n",
      "        [0.9609, 0.4824, 0.8861],\n",
      "        [0.6323, 0.0317, 0.3583]])\n",
      "<class 'torch.Tensor'>\n",
      "<class 'torch.Tensor'>\n",
      "Tensor device: cpu\n",
      "CUDA GPU: False\n",
      "tensor([[0.3082, 0.0027, 0.6662],\n",
      "        [0.6923, 0.7190, 0.9847],\n",
      "        [0.0901, 0.1171, 0.8238],\n",
      "        [0.9609, 0.4824, 0.8861],\n",
      "        [0.6323, 0.0317, 0.3583]])\n",
      "Tensor device: cpu\n"
     ]
    }
   ],
   "source": [
    "# get the supported device\n",
    "device = get_device()\n",
    "print(device)\n",
    "\n",
    "# Data and constants\n",
    "plummer_data_1a = pd.read_csv('plummer_regular.csv')\n",
    "r = plummer_data_1a.loc[:,['r_x', 'r_y', 'r_z']]\n",
    "r = r.to_numpy()\n",
    "v = plummer_data_1a.loc[:,['v_x', 'v_y', 'v_z']]\n",
    "v = v.to_numpy()\n",
    "mass = np.full((10000,1), 2)\n",
    "\n",
    "# convert from np.ndarray to torch.tensor\n",
    "r = torch.from_numpy(r)\n",
    "v = torch.from_numpy(v)\n",
    "mass = torch.from_numpy(mass)\n",
    "\n",
    "# simulation time\n",
    "T = 1\n",
    "dt = 1\n",
    "step = T/dt\n",
    "npoint = 10000\n",
    "\n",
    "# result container\n",
    "pos_out = torch.tensor((step, npoint, 3)).to(device)\n",
    "vec_out = torch.tensor((step, npoint, 3)).to(device)\n",
    "print('shape: ', pos_out.size())\n",
    "\n",
    "#######################\n",
    "# gpu computing testing\n",
    "x = torch.rand(5, 3)\n",
    "print(x)\n",
    "print(type(r))\n",
    "print(type(x))\n",
    "print(\"Tensor device:\", x.device)\n",
    "\n",
    "print(\"CUDA GPU:\", torch.cuda.is_available())\n",
    "if torch.cuda.is_available():\n",
    "   x = x.to(\"cuda:0\")\n",
    "   # or x=x.to(\"cuda\")\n",
    "print(x)\n",
    "\n",
    "# now check the tensor device\n",
    "print(\"Tensor device:\", x.device)"
   ]
  },
  {
   "cell_type": "code",
   "execution_count": 11,
   "metadata": {},
   "outputs": [],
   "source": [
    "# x = np.array([3,27,5.3]).reshape(3,1)\n",
    "# print(x.T-x)"
   ]
  },
  {
   "cell_type": "code",
   "execution_count": null,
   "metadata": {},
   "outputs": [],
   "source": [
    "for i in range(int(step)):\n",
    "    r, v = leapfrog(r, v, mass, G = 1, softening = 5, dt = dt)\n",
    "    pos_out.append(r)\n",
    "    vec_out.append(v)\n",
    "\n",
    "pos_out = np.array(pos_out)\n",
    "vec_out = np.array(vec_out)"
   ]
  },
  {
   "cell_type": "code",
   "execution_count": null,
   "metadata": {},
   "outputs": [],
   "source": []
  }
 ],
 "metadata": {
  "kernelspec": {
   "display_name": "Python 3 (ipykernel)",
   "language": "python",
   "name": "python3"
  },
  "language_info": {
   "codemirror_mode": {
    "name": "ipython",
    "version": 3
   },
   "file_extension": ".py",
   "mimetype": "text/x-python",
   "name": "python",
   "nbconvert_exporter": "python",
   "pygments_lexer": "ipython3",
   "version": "3.10.11"
  }
 },
 "nbformat": 4,
 "nbformat_minor": 2
}
